{
 "cells": [
  {
   "attachments": {},
   "cell_type": "markdown",
   "metadata": {},
   "source": [
    "#### Hello Bioinformatics"
   ]
  },
  {
   "cell_type": "code",
   "execution_count": 1,
   "metadata": {},
   "outputs": [
    {
     "name": "stdout",
     "output_type": "stream",
     "text": [
      "Hello Bioinformatics!\n"
     ]
    }
   ],
   "source": [
    "print(\"Hello Bioinformatics!\")"
   ]
  },
  {
   "attachments": {},
   "cell_type": "markdown",
   "metadata": {},
   "source": [
    "#### Variable"
   ]
  },
  {
   "cell_type": "code",
   "execution_count": 4,
   "metadata": {},
   "outputs": [
    {
     "name": "stdout",
     "output_type": "stream",
     "text": [
      "45.0\n"
     ]
    }
   ],
   "source": [
    "A = 4\n",
    "C = 6\n",
    "G = 3\n",
    "T = 7\n",
    "GC_ratio = (C+G) / (A+C+G+T) * 100\n",
    "print(GC_ratio)"
   ]
  },
  {
   "attachments": {},
   "cell_type": "markdown",
   "metadata": {},
   "source": [
    "#### Operator"
   ]
  },
  {
   "cell_type": "code",
   "execution_count": 1,
   "metadata": {},
   "outputs": [
    {
     "name": "stdout",
     "output_type": "stream",
     "text": [
      "8\n",
      "-2\n",
      "15\n",
      "0.6\n",
      "3\n",
      "243\n"
     ]
    }
   ],
   "source": [
    "num1 = 3\n",
    "num2 = 5\n",
    "\n",
    "print(num1 + num2)\n",
    "print(num1 - num2)\n",
    "print(num1 * num2)\n",
    "print(num1 / num2)\n",
    "print(num1 % num2)\n",
    "print(num1 ** num2)"
   ]
  },
  {
   "attachments": {},
   "cell_type": "markdown",
   "metadata": {},
   "source": [
    "#### if - else"
   ]
  },
  {
   "cell_type": "code",
   "execution_count": 5,
   "metadata": {},
   "outputs": [
    {
     "name": "stdout",
     "output_type": "stream",
     "text": [
      "11 = 홀수입니다.\n"
     ]
    }
   ],
   "source": [
    "num_of_patients = 11\n",
    "if num_of_patients % 2 == 0:\n",
    "    print(f\"{num_of_patients} = 짝수입니다.\")\n",
    "else:\n",
    "    print(f\"{num_of_patients} = 홀수입니다.\")"
   ]
  },
  {
   "attachments": {},
   "cell_type": "markdown",
   "metadata": {},
   "source": [
    "#### if-elif-else"
   ]
  },
  {
   "cell_type": "code",
   "execution_count": 6,
   "metadata": {},
   "outputs": [
    {
     "name": "stdout",
     "output_type": "stream",
     "text": [
      "21은 3과 7의 배수.\n"
     ]
    }
   ],
   "source": [
    "num_of_patients = 21\n",
    "if num_of_patients % 3 == 0 and num_of_patients % 7 == 0:\n",
    "    print(f\"{num_of_patients}은 3과 7의 배수.\")\n",
    "elif num_of_patients % 3 == 0:\n",
    "    print(f\"{num_of_patients}은 3의 배수.\")\n",
    "elif num_of_patients % 7 == 0:\n",
    "    print(f\"{num_of_patients}은 7의 배수.\")\n",
    "else:\n",
    "    print(f\"{num_of_patients}은 3의 배수, 7의 배수가 아님.\")"
   ]
  },
  {
   "attachments": {},
   "cell_type": "markdown",
   "metadata": {},
   "source": [
    "#### for loop"
   ]
  },
  {
   "cell_type": "code",
   "execution_count": 11,
   "metadata": {},
   "outputs": [
    {
     "name": "stdout",
     "output_type": "stream",
     "text": [
      "55\n"
     ]
    }
   ],
   "source": [
    "N = 10\n",
    "result = 0\n",
    "for num in range(1, N+1):\n",
    "    result += num\n",
    "\n",
    "print(result)"
   ]
  },
  {
   "cell_type": "code",
   "execution_count": 18,
   "metadata": {},
   "outputs": [
    {
     "name": "stdout",
     "output_type": "stream",
     "text": [
      "*\n",
      "**\n",
      "***\n",
      "****\n",
      "*****\n"
     ]
    }
   ],
   "source": [
    "n = 5\n",
    "for i in range(1, n+1):\n",
    "    print(i*\"*\")"
   ]
  },
  {
   "cell_type": "code",
   "execution_count": 22,
   "metadata": {},
   "outputs": [
    {
     "name": "stdout",
     "output_type": "stream",
     "text": [
      "*****\n",
      "****\n",
      "***\n",
      "**\n",
      "*\n"
     ]
    }
   ],
   "source": [
    "n = 5\n",
    "for i in range(n, 0, -1):\n",
    "    print(i*\"*\")"
   ]
  },
  {
   "cell_type": "code",
   "execution_count": 23,
   "metadata": {},
   "outputs": [
    {
     "name": "stdout",
     "output_type": "stream",
     "text": [
      "*****\n",
      " ****\n",
      "  ***\n",
      "   **\n",
      "    *\n"
     ]
    }
   ],
   "source": [
    "n = 5\n",
    "for i in range(n, 0, -1):\n",
    "    print((n-i)*\" \"+i*\"*\")"
   ]
  },
  {
   "cell_type": "code",
   "execution_count": 28,
   "metadata": {},
   "outputs": [
    {
     "name": "stdout",
     "output_type": "stream",
     "text": [
      "    *\n",
      "   **\n",
      "  ***\n",
      " ****\n",
      "*****\n"
     ]
    }
   ],
   "source": [
    "n = 5\n",
    "for i in range(1, n+1):\n",
    "    print((n-i)*\" \"+i*\"*\")"
   ]
  },
  {
   "cell_type": "code",
   "execution_count": 30,
   "metadata": {},
   "outputs": [
    {
     "name": "stdout",
     "output_type": "stream",
     "text": [
      "    *\n",
      "   ***\n",
      "  *****\n",
      " *******\n",
      "*********\n"
     ]
    }
   ],
   "source": [
    "n = 5\n",
    "for i in range(1, n+1):\n",
    "    print((n-i)*\" \"+(2*i-1)*\"*\")"
   ]
  },
  {
   "cell_type": "code",
   "execution_count": 34,
   "metadata": {},
   "outputs": [
    {
     "name": "stdout",
     "output_type": "stream",
     "text": [
      "    *\n",
      "   ***\n",
      "  *****\n",
      " *******\n",
      "*********\n",
      " *******\n",
      "  *****\n",
      "   ***\n",
      "    *\n"
     ]
    }
   ],
   "source": [
    "n = 5\n",
    "for i in range(1, n+1):\n",
    "    print((n-i)*\" \"+(2*i-1)*\"*\")\n",
    "for i in range(n-1, 0, -1):\n",
    "    print((n-i)*\" \"+(2*i-1)*\"*\")"
   ]
  },
  {
   "cell_type": "code",
   "execution_count": 36,
   "metadata": {},
   "outputs": [
    {
     "name": "stdout",
     "output_type": "stream",
     "text": [
      "*********\n",
      " *******\n",
      "  *****\n",
      "   ***\n",
      "    *\n",
      "   ***\n",
      "  *****\n",
      " *******\n",
      "*********\n"
     ]
    }
   ],
   "source": [
    "n = 5\n",
    "for i in range(n, 0, -1):\n",
    "    print((n-i)*\" \"+(2*i-1)*\"*\")\n",
    "for i in range(2, n+1):\n",
    "    print((n-i)*\" \"+(2*i-1)*\"*\")\n"
   ]
  },
  {
   "cell_type": "code",
   "execution_count": 37,
   "metadata": {},
   "outputs": [
    {
     "name": "stdout",
     "output_type": "stream",
     "text": [
      "2x1=2\n",
      "2x2=4\n",
      "2x3=6\n",
      "2x4=8\n",
      "2x5=10\n",
      "2x6=12\n",
      "2x7=14\n",
      "2x8=16\n",
      "2x9=18\n",
      "4x1=4\n",
      "4x2=8\n",
      "4x3=12\n",
      "4x4=16\n",
      "4x5=20\n",
      "4x6=24\n",
      "4x7=28\n",
      "4x8=32\n",
      "4x9=36\n",
      "6x1=6\n",
      "6x2=12\n",
      "6x3=18\n",
      "6x4=24\n",
      "6x5=30\n",
      "6x6=36\n",
      "6x7=42\n",
      "6x8=48\n",
      "6x9=54\n",
      "8x1=8\n",
      "8x2=16\n",
      "8x3=24\n",
      "8x4=32\n",
      "8x5=40\n",
      "8x6=48\n",
      "8x7=56\n",
      "8x8=64\n",
      "8x9=72\n"
     ]
    }
   ],
   "source": [
    "for i in range(2, 10, 2):\n",
    "    for j in range(1, 10, 1):\n",
    "        print(f\"{i}x{j}={i*j}\")"
   ]
  },
  {
   "attachments": {},
   "cell_type": "markdown",
   "metadata": {},
   "source": [
    "#### while"
   ]
  },
  {
   "cell_type": "code",
   "execution_count": 38,
   "metadata": {},
   "outputs": [
    {
     "name": "stdout",
     "output_type": "stream",
     "text": [
      "120\n"
     ]
    }
   ],
   "source": [
    "n = 5\n",
    "result = 1\n",
    "\n",
    "while True:\n",
    "    if n == 0:\n",
    "        break\n",
    "\n",
    "    result *= n\n",
    "    n -= 1\n",
    "\n",
    "print(result)"
   ]
  },
  {
   "cell_type": "code",
   "execution_count": 39,
   "metadata": {},
   "outputs": [
    {
     "name": "stdout",
     "output_type": "stream",
     "text": [
      "120\n"
     ]
    }
   ],
   "source": [
    "n = 5\n",
    "result = 1\n",
    "\n",
    "while n > 0:\n",
    "    result *= n\n",
    "    n -= 1\n",
    "\n",
    "print(result)"
   ]
  },
  {
   "attachments": {},
   "cell_type": "markdown",
   "metadata": {},
   "source": [
    "#### import"
   ]
  },
  {
   "cell_type": "code",
   "execution_count": 40,
   "metadata": {},
   "outputs": [
    {
     "name": "stdout",
     "output_type": "stream",
     "text": [
      "120\n"
     ]
    }
   ],
   "source": [
    "import math\n",
    "\n",
    "res = math.factorial(5)\n",
    "print(res)"
   ]
  },
  {
   "cell_type": "code",
   "execution_count": 41,
   "metadata": {},
   "outputs": [
    {
     "name": "stdout",
     "output_type": "stream",
     "text": [
      "120\n"
     ]
    }
   ],
   "source": [
    "from math import factorial\n",
    "\n",
    "res = factorial(5)\n",
    "print(res)"
   ]
  },
  {
   "attachments": {},
   "cell_type": "markdown",
   "metadata": {},
   "source": [
    "#### 사용자로부터 값 입력받기 - input 함수"
   ]
  },
  {
   "cell_type": "code",
   "execution_count": 42,
   "metadata": {},
   "outputs": [
    {
     "name": "stdout",
     "output_type": "stream",
     "text": [
      "Hello bioinformatics\n"
     ]
    }
   ],
   "source": [
    "name = input(\"Enter value: \")\n",
    "print(f\"Hello {name}\")"
   ]
  },
  {
   "attachments": {},
   "cell_type": "markdown",
   "metadata": {},
   "source": []
  }
 ],
 "metadata": {
  "kernelspec": {
   "display_name": "base",
   "language": "python",
   "name": "python3"
  },
  "language_info": {
   "codemirror_mode": {
    "name": "ipython",
    "version": 3
   },
   "file_extension": ".py",
   "mimetype": "text/x-python",
   "name": "python",
   "nbconvert_exporter": "python",
   "pygments_lexer": "ipython3",
   "version": "3.9.7 (default, Sep 16 2021, 08:50:36) \n[Clang 10.0.0 ]"
  },
  "orig_nbformat": 4,
  "vscode": {
   "interpreter": {
    "hash": "7b31b54b74ddd8577839b595761a573f0b60fdc883fc50ad23dbb7122f476cf4"
   }
  }
 },
 "nbformat": 4,
 "nbformat_minor": 2
}
